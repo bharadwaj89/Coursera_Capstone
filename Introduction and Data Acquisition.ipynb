{
    "cells": [
        {
            "cell_type": "markdown",
            "metadata": {},
            "source": "_______\n## I. INTRODUCTION: Business Problem\n\n\nSingapore is much more than the sum of its numerous attractions. It\u2019s constantly evolving, reinventing, and reimagining itself, with people who are passionate about creating new possibilities. It\u2019s where foodies, explorers, collectors, action seekers, culture shapers, and socialisers meet and create new experiences every day. Tourism is also a major industry and contributor to the Singaporean economy, attracting 18.5 million international tourists in 2018, more than 3 times of Singapore's total population. Singapore is the 5th most visited city in the world, and 2nd in the Asia-Pacific.\nHowever, travelers often find themselves confused with what to eat, where to stay, places to visit etc.. Even websites recommend usual tourist attractions and places to stay based on simple keywords like \"Hotels\", \"Best Food\",\"Travel\" etc\n\nThe goal of this project is to collect best visited/reviewed places using Foursquare API and provide an accurate recommendation. We will be utilizing data retrieved from Singapore open data sources and FourSquare API venue recommendations.\n\nThe recommender system in this notebook will provide the following use case scenario:\n#### If a person is planning to visit Singapore as a Tourist and looking for a reasonable accommodation.\n#### If the user wants to receive a venue recommendation where he can stay - places like Best Hotels or rent an apartment according to his budget with nearby places of interest or search category option.\n#### With clear segemnting and cluster analysis I would like to present a comparison table of all possible town venues.\n\nWe will download the data from data.gov.sg and utilize the Median Rental  prices\n* Singapore Median Rental Prices by town.\n* Popular Food venues in the vicinity. (Sample category selection)\n\nNote: While this demo makes use of Food Venue Category, Other possible categories can also be used for the same implementation such as checking categories like:\n* Outdoors and Recreation\n* Nightlife\n* Nearby Schools, etc.\n\nAs FourSquare API only allows 50 free venue query I would like to limit the scope of this search.\n"
        },
        {
            "cell_type": "markdown",
            "metadata": {},
            "source": "## II. DATA ACQUISITION\nWe will use of the following data sources to make our recommendation:\n\n#### Singapore Towns and median residential rental prices.\nData retrieved from Singapore open dataset from <a href='https://data.gov.sg/dataset/b35046dc-7428-4cff-968d-ef4c3e9e6c99'>median rent by town and flattype</a> from https://data.gov.sg website. \n\nThe data source contains median rental prices of Singapore HDB units from 2005 up to 4th quarter of 2019. I will retrieve rental the most recent recorded rental prices from this data source (Q4 2019) being the most relevant price available at this time. For this project, I will simplify the analysis by using the average rental prices of all available flat type.\n\n#### Singapore Top Venue Recommendations from FourSquare API\n(FourSquare website: www.foursquare.com)\n\nI will be using the FourSquare API to explore neighborhoods in selected towns in Singapore. The Foursquare explore function will be used to get the most common venue categories in each neighborhood, and then use this feature to group the neighborhoods into clusters.  The following information are retrieved on the first query:\n* Venue ID\n* Venue Name\n* Coordinates : Latitude and Longitude\n* Category Name\n\nAnother venue query will be performed to retrieve venue ratings for each location. Note that rating information is a paid service from FourSquare and we are limited to only 50 queries per day. With this constraint, we limit the category analysis with only one type for this demo. I will try to retrieve as many ratings as possible for each retrieved venue ID.\n"
        },
        {
            "cell_type": "markdown",
            "metadata": {},
            "source": "## III. METHODOLOGY\n\n#### Singapore Towns List with median residential rental prices.\nThe source data contains median rental prices of Singapore HDB units from 2005 up to 4th quarter of 2019.\n\n**Data Cleanup and re-grouping.** The retrieved table contains some un-wanted entries and needs some cleanup.\n\nThe following tasks will be performed:\n* Drop/ignore cells with missing data.\n* Use most current data record.\n* Fix data types."
        },
        {
            "cell_type": "markdown",
            "metadata": {},
            "source": "## IV. Performing Segmentation and Clustering Analysis in Singapore\n### Retrieving FourSquare Places of interest.\n\nWe will be using the Foursquare API - **explore** function to get the most common venue categories in each neighborhood and then group the neighborhoods into clusters. \n\nWe will use the *k*-means clustering algorithm for analysis.\n\nFinally, the Folium library is used to visualize the recommended neighborhoods and their emerging clusters.\n\nThe function **getNearbyVenues** extracts the following information for the dataframe it generates:\n* Venue ID\n* Venue Name\n* Coordinates : Latitude and Longitude\n* Category Name\n\nThe function **getVenuesByCategory** performs the following:\n  1. **category** based venue search to simulate user venue searches based on certain places of interest. This search extracts the following information:\n   * Venue ID\n   * Venue Name\n   * Coordinates : Latitude and Longitude\n   * Category Name\n  2. For each retrieved **venueID**, retrive the venues category rating."
        },
        {
            "cell_type": "markdown",
            "metadata": {},
            "source": "## V. Evaluation and Discussion"
        },
        {
            "cell_type": "markdown",
            "metadata": {},
            "source": "## VI. Conclusion"
        },
        {
            "cell_type": "code",
            "execution_count": null,
            "metadata": {},
            "outputs": [],
            "source": ""
        }
    ],
    "metadata": {
        "kernelspec": {
            "display_name": "Python 3.6",
            "language": "python",
            "name": "python3"
        },
        "language_info": {
            "codemirror_mode": {
                "name": "ipython",
                "version": 3
            },
            "file_extension": ".py",
            "mimetype": "text/x-python",
            "name": "python",
            "nbconvert_exporter": "python",
            "pygments_lexer": "ipython3",
            "version": "3.6.9"
        }
    },
    "nbformat": 4,
    "nbformat_minor": 1
}